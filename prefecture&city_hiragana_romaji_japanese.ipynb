{
  "nbformat": 4,
  "nbformat_minor": 0,
  "metadata": {
    "colab": {
      "provenance": [],
      "authorship_tag": "ABX9TyMpv+N+GIjr0R4BtaM2stUQ",
      "include_colab_link": true
    },
    "kernelspec": {
      "name": "python3",
      "display_name": "Python 3"
    },
    "language_info": {
      "name": "python"
    }
  },
  "cells": [
    {
      "cell_type": "markdown",
      "metadata": {
        "id": "view-in-github",
        "colab_type": "text"
      },
      "source": [
        "<a href=\"https://colab.research.google.com/github/ForestallingEI/MissingXgames/blob/main/prefecture%26city_hiragana_romaji_japanese.ipynb\" target=\"_parent\"><img src=\"https://colab.research.google.com/assets/colab-badge.svg\" alt=\"Open In Colab\"/></a>"
      ]
    },
    {
      "cell_type": "markdown",
      "source": [
        "# 白地図で都道府県と県庁所在地を復習(ひらがな入力OK)\n",
        "\n",
        "### ⛵ このシートはひらがなとローマ字入力も対応します。(漢字もOK)\n",
        "\n",
        "\n",
        "> ⭕  とうきょう、おおさか、おきなわ、tokyo、osaka、okinawa、naha、東京都、大阪府、沖縄県、東京、大阪、沖縄、大阪市、那覇市、那覇\n",
        "\n",
        "### 🪲 ただし、ひらがなとローマ字では ”けん(県) や し(市)” などをつけてしまうとエラーになります。\n",
        "\n",
        "> ❎  とうきょうと、おおさかふ、tokyoto、osakahu、okinawaken、nahashi\n",
        "\n",
        "<br>\n",
        "\n",
        "*詳しくは、Japanmapライブラリのpythonファイルと作成しているDataFrameをご確認ください。"
      ],
      "metadata": {
        "id": "b1A_VoqINDR0"
      }
    },
    {
      "cell_type": "markdown",
      "source": [
        "## 作成概要\n",
        "\n",
        "  1. 白地図が欲しいため、Japanmapをインストール。\n",
        "  > 🌵 Japanmapのgithubページ https://github.com/SaitoTsutomu/japanmap\n",
        "  2. Japanmapだけではひらがなとローマ字に対応できないため、pandasでDataFrame作成。csvファイルから辞書形式に前処理した上で作成。インデックスを都道府県コードとする。ついでにDataFrameで県庁所在地の問題も作成。\n",
        "  > 元のファイルはhttps://www.start-point.net/maps/tool/ からいただきました。他にも面白そうなコンテンツが並んでます。小学生にはもちろん大人にも魅力的です。\n",
        "  3. 描画のためのmatplotlibとランダムに問題を出すためのrandom関数をimport。\n",
        "  4. 視認性を考慮しフォームで入力エリアを作成\n",
        "  5. 時間計測は正確でなくとも、あったほうが燃えるだろうとコメントアウトして記述。"
      ],
      "metadata": {
        "id": "J_tgBDg3Xw7H"
      }
    },
    {
      "cell_type": "code",
      "source": [
        "!pip install japanmap"
      ],
      "metadata": {
        "id": "ymf8dKA0n_IS"
      },
      "execution_count": null,
      "outputs": []
    },
    {
      "cell_type": "code",
      "execution_count": null,
      "metadata": {
        "id": "d2y6zufaYWzc"
      },
      "outputs": [],
      "source": [
        "from japanmap import *\n",
        "import matplotlib.pyplot as plt\n",
        "import pandas as pd\n",
        "import random\n",
        "# import time"
      ]
    },
    {
      "cell_type": "code",
      "source": [
        "# @title 心の準備　ーこのような白地図が出力されますー\n",
        "# 白地図表示\n",
        "plt.tick_params(labelbottom=False, labelleft=False)\n",
        "plt.title(\"Japan\")\n",
        "plt.imshow(picture())"
      ],
      "metadata": {
        "id": "r0PLOu2goidB"
      },
      "execution_count": null,
      "outputs": []
    },
    {
      "cell_type": "code",
      "source": [
        "# 都道府県のDataFrame作成。都道府県名の県ありcolumnはJapanmapにあるのでのぞいておく。\n",
        "df_p = pd.DataFrame(\n",
        "    {'都道府県 県なし': {1: '北海道', 2: '青森', 3: '岩手', 4: '宮城', 5: '秋田', 6: '山形', 7: '福島', 8: '茨城', 9: '栃木', 10: '群馬', 11: '埼玉', 12: '千葉', 13: '東京', 14: '神奈川', 15: '新潟', 16: '富山', 17: '石川', 18: '福井', 19: '山梨', 20: '長野', 21: '岐阜', 22: '静岡', 23: '愛知', 24: '三重', 25: '滋賀', 26: '京都', 27: '大阪', 28: '兵庫', 29: '奈良', 30: '和歌山', 31: '鳥取', 32: '島根', 33: '岡山', 34: '広島', 35: '山口', 36: '徳島', 37: '香川', 38: '愛媛', 39: '高知', 40: '福岡', 41: '佐賀', 42: '長崎', 43: '熊本', 44: '大分', 45: '宮崎', 46: '鹿児島', 47: '沖縄'}, '都道府県 県あり': {1: '北海道', 2: '青森県', 3: '岩手県', 4: '宮城県', 5: '秋田県', 6: '山形県', 7: '福島県', 8: '茨城県', 9: '栃木県', 10: '群馬県', 11: '埼玉県', 12: '千葉県', 13: '東京都', 14: '神奈川県', 15: '新潟県', 16: '富山県', 17: '石川県', 18: '福井県', 19: '山梨県', 20: '長野県', 21: '岐阜県', 22: '静岡県', 23: '愛知県', 24: '三重県', 25: '滋賀県', 26: '京都府', 27: '大阪府', 28: '兵庫県', 29: '奈良県', 30: '和歌山県', 31: '鳥取県', 32: '島根県', 33: '岡山県', 34: '広島県', 35: '山口県', 36: '徳島県', 37: '香川県', 38: '愛媛県', 39: '高知県', 40: '福岡県', 41: '佐賀県', 42: '長崎県', 43: '熊本県', 44: '大分県', 45: '宮崎県', 46: '鹿児島県', 47: '沖縄県'}, '都道府県 ひらがな': {1: 'ほっかいどう', 2: 'あおもり', 3: 'いわて', 4: 'みやぎ', 5: 'あきた', 6: 'やまがた', 7: 'ふくしま', 8: 'いばらき', 9: 'とちぎ', 10: 'ぐんま', 11: 'さいたま', 12: 'ちば', 13: 'とうきょう', 14: 'かながわ', 15: 'にいがた', 16: 'とやま', 17: 'いしかわ', 18: 'ふくい', 19: 'やまなし', 20: 'ながの', 21: 'ぎふ', 22: 'しずおか', 23: 'あいち', 24: 'みえ', 25: 'しが', 26: 'きょうと', 27: 'おおさか', 28: 'ひょうご', 29: 'なら', 30: 'わかやま', 31: 'とっとり', 32: 'しまね', 33: 'おかやま', 34: 'ひろしま', 35: 'やまぐち', 36: 'とくしま', 37: 'かがわ', 38: 'えひめ', 39: 'こうち', 40: 'ふくおか', 41: 'さが', 42: 'ながさき', 43: 'くまもと', 44: 'おおいた', 45: 'みやざき', 46: 'かごしま', 47: 'おきなわ'}, '都道府県 ローマ字': {1: 'hokkaido', 2: 'aomori', 3: 'iwate', 4: 'miyagi', 5: 'akita', 6: 'yamagata', 7: 'fukushima', 8: 'ibaraki', 9: 'tochigi', 10: 'gunma', 11: 'saitama', 12: 'chiba', 13: 'tokyo', 14: 'kanagawa', 15: 'niigata', 16: 'toyama', 17: 'ishikawa', 18: 'fukui', 19: 'yamanashi', 20: 'nagano', 21: 'gifu', 22: 'shizuoka', 23: 'aichi', 24: 'mie', 25: 'shiga', 26: 'kyoto', 27: 'osaka', 28: 'hyogo', 29: 'nara', 30: 'wakayama', 31: 'tottori', 32: 'shimane', 33: 'okayama', 34: 'hiroshima', 35: 'yamaguchi', 36: 'tokushima', 37: 'kagawa', 38: 'ehime', 39: 'kochi', 40: 'fukuoka', 41: 'saga', 42: 'nagasaki', 43: 'kumamoto', 44: 'oita', 45: 'miyazaki', 46: 'kagoshima', 47: 'okinawa'}}\n",
        "    )\n",
        "df_p = df_p.drop(columns='都道府県 県あり')\n",
        "# 県庁所在地名のDataFrame作成。\n",
        "df_c = pd.DataFrame(\n",
        "    {'県庁所在地 市区町村なし': {1: '札幌', 2: '青森', 3: '盛岡', 4: '仙台', 5: '秋田', 6: '山形', 7: '福島', 8: '水戸', 9: '宇都宮', 10: '前橋', 11: 'さいたま', 12: '千葉', 13: '新宿', 14: '横浜', 15: '新潟', 16: '富山', 17: '金沢', 18: '福井', 19: '甲府', 20: '長野', 21: '岐阜', 22: '静岡', 23: '名古屋', 24: '津', 25: '大津', 26: '京都', 27: '大阪', 28: '神戸', 29: '奈良', 30: '和歌山', 31: '鳥取', 32: '松江', 33: '岡山', 34: '広島', 35: '山口', 36: '徳島', 37: '高松', 38: '松山', 39: '高知', 40: '福岡', 41: '佐賀', 42: '長崎', 43: '熊本', 44: '大分', 45: '宮崎', 46: '鹿児島', 47: '那覇'}, '県庁所在地 市区町村あり': {1: '札幌市', 2: '青森市', 3: '盛岡市', 4: '仙台市', 5: '秋田市', 6: '山形市', 7: '福島市', 8: '水戸市', 9: '宇都宮市', 10: '前橋市', 11: 'さいたま市', 12: '千葉市', 13: '新宿区', 14: '横浜市', 15: '新潟市', 16: '富山市', 17: '金沢市', 18: '福井市', 19: '甲府市', 20: '長野市', 21: '岐阜市', 22: '静岡市', 23: '名古屋市', 24: '津市', 25: '大津市', 26: '京都市', 27: '大阪市', 28: '神戸市', 29: '奈良市', 30: '和歌山市', 31: '鳥取市', 32: '松江市', 33: '岡山市', 34: '広島市', 35: '山口市', 36: '徳島市', 37: '高松市', 38: '松山市', 39: '高知市', 40: '福岡市', 41: '佐賀市', 42: '長崎市', 43: '熊本市', 44: '大分市', 45: '宮崎市', 46: '鹿児島市', 47: '那覇市'}, '県庁所在地 ひらがな': {1: 'さっぽろ', 2: 'あおもり', 3: 'もりおか', 4: 'せんだい', 5: 'あきた', 6: 'やまがた', 7: 'ふくしま', 8: 'みと', 9: 'うつのみや', 10: 'まえばし', 11: 'さいたま', 12: 'ちば', 13: 'しんじゅく', 14: 'よこはま', 15: 'にいがた', 16: 'とやま', 17: 'かなざわ', 18: 'ふくい', 19: 'こうふ', 20: 'ながの', 21: 'ぎふ', 22: 'しずおか', 23: 'なごや', 24: 'つ', 25: 'おおつ', 26: 'きょうと', 27: 'おおさか', 28: 'こうべ', 29: 'なら', 30: 'わかやま', 31: 'とっとり', 32: 'まつえ', 33: 'おかやま', 34: 'ひろしま', 35: 'やまぐち', 36: 'とくしま', 37: 'たかまつ', 38: 'まつやま', 39: 'こうち', 40: 'ふくおか', 41: 'さが', 42: 'ながさき', 43: 'くまもと', 44: 'おおいた', 45: 'みやざき', 46: 'かごしま', 47: 'なは'}, '県庁所在地 ローマ字': {1: 'sapporo', 2: 'aomori', 3: 'morioka', 4: 'sendai', 5: 'akita', 6: 'yamagata', 7: 'fukushima', 8: 'mito', 9: 'utsunomiya', 10: 'maebashi', 11: 'saitama', 12: 'chiba', 13: 'shinjuku', 14: 'yokohama', 15: 'niigata', 16: 'toyama', 17: 'kanazawa', 18: 'fukui', 19: 'kofu', 20: 'nagano', 21: 'gifu', 22: 'shizuoka', 23: 'nagoya', 24: 'tsu', 25: 'otsu', 26: 'kyouto', 27: 'osaka', 28: 'koube', 29: 'nara', 30: 'wakayama', 31: 'tottori', 32: 'matsue', 33: 'okayama', 34: 'hiroshima', 35: 'yamaguchi', 36: 'tokushima', 37: 'takamatsu', 38: 'matsuyama', 39: 'kochi', 40: 'fukuoka', 41: 'saga', 42: 'nagasaki', 43: 'kumamoto', 44: 'oita', 45: 'miyazaki', 46: 'kagoshima', 47: 'naha'}}\n",
        "    )\n",
        "\n",
        "# 二つを結合して一つのDataFrameとする。\n",
        "df = pd.concat([df_p,df_c],axis=1)\n"
      ],
      "metadata": {
        "id": "FJpolZbL0pRh"
      },
      "execution_count": null,
      "outputs": []
    },
    {
      "cell_type": "code",
      "source": [
        "# @title 問題です。\n",
        "\n",
        "# missingX作成\n",
        "x = random.randrange(1, 48)\n",
        "\n",
        "#変数に必要な項目を格納しておく\n",
        "pref_n = df.at[x, '都道府県 県なし']\n",
        "pref_kana = df.at[x, '都道府県 ひらがな']\n",
        "pref_roma = df.at[x, '都道府県 ローマ字']\n",
        "city_kanji = df.at[x, '県庁所在地 市区町村あり']\n",
        "city_n = df.at[x, '県庁所在地 市区町村なし']\n",
        "city_kana = df.at[x, '県庁所在地 ひらがな']\n",
        "city_roma = df.at[x, '県庁所在地 ローマ字']\n",
        "\n",
        "# 地方と計測のための関数を用意しておく\n",
        "def what_area(x):\n",
        "  for k,v in groups.items():\n",
        "    for w in v:\n",
        "      if w==x:\n",
        "        return k\n",
        "\n",
        "\n",
        "# def mesure():\n",
        "#   return time.time()\n",
        "\n",
        "\n",
        "# 問題の地図を描画\n",
        "plt.tick_params(labelbottom=False, labelleft=False)   #ラベル消した\n",
        "plt.imshow(picture({x: 'blue'}))\n",
        "\n",
        "\n",
        "# １問目計測スタート\n",
        "# start = mesure()"
      ],
      "metadata": {
        "id": "cOGvo9PxEbsa"
      },
      "execution_count": null,
      "outputs": []
    },
    {
      "cell_type": "code",
      "source": [
        "# @title 色がついている場所の都道府県名は？ （入力例： kyoto、 きょうと、okinawa、おきなわ・・・)\n",
        "prefecture = \"\" # @param {type:\"string\"}\n",
        "\n",
        "\n",
        "if prefecture == pref_names[x] or prefecture == pref_n or prefecture == pref_kana or prefecture == pref_roma:\n",
        "\n",
        "  print(\"正解です！\")\n",
        "  #print(\"タイムは\", mesure()-start, \"秒です！\" )\n",
        "\n",
        "else:\n",
        "  print(\"再挑戦！　\")"
      ],
      "metadata": {
        "id": "xlPaBLd_UQ7t",
        "cellView": "form"
      },
      "execution_count": null,
      "outputs": []
    },
    {
      "cell_type": "code",
      "source": [
        "# @title 県庁所在地は？ (入力例：さっぽろ、なは、sapporo、naha・・・)\n",
        "city = \"\" # @param {type:\"string\"}\n",
        "\n",
        "if city == city_kanji or city == city_n or city == city_kana or city == city_roma:\n",
        "  print(\"正解です！\")\n",
        "  #print(\"タイムは地図表示から\", mesure()-start, \"秒！\" )\n",
        "\n",
        "else:\n",
        "  print(\"Try Again.\")"
      ],
      "metadata": {
        "id": "SPew3Gj7KBm-",
        "cellView": "form"
      },
      "execution_count": null,
      "outputs": []
    },
    {
      "cell_type": "markdown",
      "source": [
        "##一都道府県につき２問でした。   \n",
        "##『問題です』のセルから再び実行していけば、別の都道府県を当てることになるかもしれません。コメントアウトを外してタイム計測を有効化することもできます。"
      ],
      "metadata": {
        "id": "l78vjsZikgE9"
      }
    }
  ]
}