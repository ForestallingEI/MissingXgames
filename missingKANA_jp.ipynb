{
  "nbformat": 4,
  "nbformat_minor": 0,
  "metadata": {
    "colab": {
      "provenance": [],
      "authorship_tag": "ABX9TyNUWl2VE4myd7lJ1W94PN8i",
      "include_colab_link": true
    },
    "kernelspec": {
      "name": "python3",
      "display_name": "Python 3"
    },
    "language_info": {
      "name": "python"
    }
  },
  "cells": [
    {
      "cell_type": "markdown",
      "metadata": {
        "id": "view-in-github",
        "colab_type": "text"
      },
      "source": [
        "<a href=\"https://colab.research.google.com/github/ForestallingEI/JupyterLab_Docker/blob/main/missingKANA_jp.ipynb\" target=\"_parent\"><img src=\"https://colab.research.google.com/assets/colab-badge.svg\" alt=\"Open In Colab\"/></a>"
      ]
    },
    {
      "cell_type": "markdown",
      "source": [
        "# 抜けているホニャララを当てるゲーム\n",
        "  1. 規則性のあるリストを作成\n",
        "  2. 抜かすものをランダムに選択\n",
        "  3. 問題印字\n",
        "  4. 答えを入力してもらう\n",
        "  5. 正誤判定.\n",
        "  6. 時間計測もつけたい。colaboratoryではうまく計測されないが、ないと少しつまらない。"
      ],
      "metadata": {
        "id": "aPSknL8cSycH"
      }
    },
    {
      "cell_type": "code",
      "source": [
        "import random\n",
        "import time\n",
        "\n",
        "# 日本語かな５０音から リスト作成\n",
        "KANA = [\"あ\",\"い\",\"う\",\"え\",\"お\"]\n",
        "print(f\"{KANA[0]} 〜 {KANA[-1]} の かな文字 です。 抜けている かな を当ててください。\")"
      ],
      "metadata": {
        "id": "OrCd03v2TBkZ"
      },
      "execution_count": null,
      "outputs": []
    },
    {
      "cell_type": "code",
      "source": [
        "# @title それでは１問目。\n",
        "x = random.choice(KANA)\n",
        "\n",
        "for v in KANA:\n",
        "  if x!=v:\n",
        "    print(v, end=\" \")\n",
        "start = time.time()\n",
        "ans=input(\"\\n答えは？ \\t\")\n",
        "\n",
        "if ans==x:\n",
        "  formated_time = format(time.time()-start, '.2f')\n",
        "  print(f\"\\n\\n正解です！！\")\n",
        "  print(formated_time, \"秒でした。\")\n",
        "else:\n",
        "  print(\"Try again!\")"
      ],
      "metadata": {
        "id": "U33l8jdTUvLn"
      },
      "execution_count": null,
      "outputs": []
    },
    {
      "cell_type": "code",
      "source": [
        "# @title やや難しくなります🤔。  ２問目。\n",
        "\n",
        "#今度は順番もランダムにします。\n",
        "KANA_shuffled = random.sample(KANA, len(KANA))\n",
        "x = random.choice(KANA)\n",
        "\n",
        "for v in KANA_shuffled:\n",
        "  if x!=v:\n",
        "    print(v, end=\" \")\n",
        "start_again = time.time()\n",
        "ans=input(\"\\n答えは？ \\t\")\n",
        "\n",
        "if ans==x:\n",
        "  formated_time = format(time.time()-start_again, '.2f')\n",
        "  print(f\"\\n\\n正解です！！\")\n",
        "  print(formated_time, \"秒でした。\")\n",
        "else:\n",
        "  print(\"Try again!\")"
      ],
      "metadata": {
        "id": "qhvri7SQOBpt"
      },
      "execution_count": null,
      "outputs": []
    }
  ]
}