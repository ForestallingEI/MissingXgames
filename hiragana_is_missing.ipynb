{
  "nbformat": 4,
  "nbformat_minor": 0,
  "metadata": {
    "colab": {
      "provenance": [],
      "authorship_tag": "ABX9TyPfzHAo7Kj5shkEeXk4muJY",
      "include_colab_link": true
    },
    "kernelspec": {
      "name": "python3",
      "display_name": "Python 3"
    },
    "language_info": {
      "name": "python"
    }
  },
  "cells": [
    {
      "cell_type": "markdown",
      "metadata": {
        "id": "view-in-github",
        "colab_type": "text"
      },
      "source": [
        "<a href=\"https://colab.research.google.com/github/ForestallingEI/MissingXgames/blob/main/hiragana_is_missing.ipynb\" target=\"_parent\"><img src=\"https://colab.research.google.com/assets/colab-badge.svg\" alt=\"Open In Colab\"/></a>"
      ]
    },
    {
      "cell_type": "markdown",
      "source": [
        "# 五十音図でmissingX\n",
        "\n",
        "古語を含む五十音図を採用しました。  \n",
        "https://ja.wikipedia.org/wiki/五十音\n",
        "\n",
        "古語といってもunicode対応している文字だけですのでJISキーボードでなくてもOKです。脳トレとしてはもちろん、外国語として日本語を勉強されている方もぜひ。"
      ],
      "metadata": {
        "id": "wwmaTEcW8HUm"
      }
    },
    {
      "cell_type": "code",
      "execution_count": null,
      "metadata": {
        "cellView": "form",
        "id": "nvJPW5Jx4OES"
      },
      "outputs": [],
      "source": [
        "# @title 問題の行を選択します。\n",
        "import random\n",
        "import time\n",
        "\n",
        "ALP = [\n",
        "    [\"あ\", \"い\", \"う\", \"え\", \"お\"],\n",
        "    [\"か\", \"き\", \"く\", \"け\", \"こ\"],\n",
        "    [\"さ\", \"し\", \"す\", \"せ\", \"そ\"],\n",
        "    [\"た\", \"ち\", \"つ\", \"て\", \"と\"],\n",
        "    [\"は\", \"ひ\", \"ふ\", \"へ\", \"ほ\"],\n",
        "    [\"ま\", \"み\", \"む\", \"め\", \"も\"],\n",
        "    [\"ら\", \"り\", \"る\", \"れ\", \"ろ\"],\n",
        "    [\"や\", \"ゆ\", \"よ\", \"ん\", \"ゐ\", \"わ\", \"ゑ\", \"を\"],\n",
        "]\n",
        "\n",
        "selected_col = random.choice(ALP)\n",
        "\n",
        "time.sleep(3)\n",
        "\n",
        "if selected_col == ALP[7]:\n",
        "    print(\"スペシャル問題です! や行・わ行 で古語を含みます. 百人一首で見たことがあるかもしれません。\\n\\n\")\n",
        "else:\n",
        "    print(selected_col[0], \"から\", selected_col[-1], \"までの \", selected_col[0], \"行のひらがな です。\\n\\n\")"
      ]
    },
    {
      "cell_type": "code",
      "source": [
        "# @title それでは問題です。\n",
        "\n",
        "x = random.choice(selected_col)\n",
        "random.shuffle(selected_col)\n",
        "alp = \"\"\n",
        "\n",
        "for v in selected_col:\n",
        "    if v != x:\n",
        "        print(v, end=\" \")\n",
        "\n",
        "print(\"\\n\\nぬけている ひらがな は何でしょうか？\")\n",
        "start = time.time()"
      ],
      "metadata": {
        "cellView": "form",
        "id": "gKGS2Qc8_71-"
      },
      "execution_count": null,
      "outputs": []
    },
    {
      "cell_type": "code",
      "source": [
        "hiragana = \"\" # @param {type:\"string\"}\n",
        "\n",
        "hiragana = hiragana.strip(\" \")\n",
        "\n",
        "if hiragana == x:\n",
        "    end = time.time()\n",
        "    timer = format(end - start, \"2f\")\n",
        "    print(\"正解です!\\n\", \"time: \", timer, \"sec\")\n",
        "else:\n",
        "    print(\"Try again!\")"
      ],
      "metadata": {
        "cellView": "form",
        "id": "YfjHyBbS4bhs"
      },
      "execution_count": null,
      "outputs": []
    }
  ]
}